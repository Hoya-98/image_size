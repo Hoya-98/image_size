{
 "cells": [
  {
   "cell_type": "code",
   "execution_count": 29,
   "metadata": {},
   "outputs": [],
   "source": [
    "import os\n",
    "import re\n",
    "import shutil\n",
    "import matplotlib.pyplot as plt\n",
    "import ipywidgets as widgets\n",
    "from IPython.display import display, clear_output\n",
    "from PIL import Image, ImageOps"
   ]
  },
  {
   "cell_type": "code",
   "execution_count": 30,
   "metadata": {},
   "outputs": [],
   "source": [
    "# 추론한 이미지들을 담고 있는 디렉토리 경로\n",
    "processed_dataset_dir = './processed_dataset'\n",
    "\n",
    "# 학습할 마스크 이미지 경로\n",
    "mask_dataset_dir = './mask_dataset'\n",
    "\n",
    "# 다시 박스 쳐서 추론할 이미지 경로\n",
    "recheck_image_dir = './recheck_image'\n",
    "\n",
    "# 학습할 마스크 이미지 리스트\n",
    "mask_list = []\n",
    "\n",
    "# 다시 박스 쳐서 추론할 이미지 리스트\n",
    "recheck_image_list = []"
   ]
  },
  {
   "cell_type": "code",
   "execution_count": 31,
   "metadata": {},
   "outputs": [],
   "source": [
    "# 이미지를 담고 있는 디렉토리 클래스 구조\n",
    "class image_dir:\n",
    "    def __init__(self, image_dir_path, original, mask1_origin, mask1, mask2_origin, mask2, mask3_origin, mask3):\n",
    "\n",
    "        # 이미지들을 담고 있는 디렉토리 경로\n",
    "        self.image_dir_path = image_dir_path\n",
    "\n",
    "        # 원본 이미지 이름\n",
    "        self.original = original\n",
    "\n",
    "        # 1번 마스크\n",
    "        self.mask1_origin = mask1_origin\n",
    "        self.mask1 = mask1\n",
    "\n",
    "        # 2번 마스크\n",
    "        self.mask2_origin = mask2_origin\n",
    "        self.mask2 = mask2\n",
    "\n",
    "        # 3번 마스크\n",
    "        self.mask3_origin = mask3_origin\n",
    "        self.mask3 = mask3\n",
    "\n",
    "        # 이터레이터를 위한 리스트 초기화\n",
    "        self.list = [\n",
    "            self.original,\n",
    "            self.mask1_origin, self.mask1,\n",
    "            self.mask2_origin, self.mask2,\n",
    "            self.mask3_origin, self.mask3\n",
    "        ]\n",
    "        \n",
    "    def __iter__(self):\n",
    "        # 이터레이터 초기화\n",
    "        self._iter_index = 0\n",
    "        return self\n",
    "\n",
    "    def __next__(self):\n",
    "        if self._iter_index < len(self.list):\n",
    "            result = self.list[self._iter_index]\n",
    "            self._iter_index += 1\n",
    "            return result\n",
    "        else:\n",
    "            raise StopIteration\n",
    "    \n",
    "     # 이미지 불러오는 함수\n",
    "    def open_image(self, image_name):\n",
    "        if self.image_dir_path is None or image_name is None:\n",
    "            raise ValueError(\"image_dir_path 또는 image_name이 None입니다.\")\n",
    "    \n",
    "        image_path = os.path.join(self.image_dir_path, image_name)\n",
    "        img = Image.open(image_path)\n",
    "        img = ImageOps.exif_transpose(img)\n",
    "        return img"
   ]
  },
  {
   "cell_type": "code",
   "execution_count": 32,
   "metadata": {},
   "outputs": [],
   "source": [
    "# 이미지 담고 있는 디렉토리 리스트 초기화\n",
    "image_dir_list = []\n",
    "\n",
    "# 이미지 담고 있는 디렉토리들을 정리\n",
    "for image_dir_name in os.listdir(processed_dataset_dir):\n",
    "    image_dir_path = os.path.join(processed_dataset_dir, image_dir_name)\n",
    "\n",
    "    original = None\n",
    "    original_path = None\n",
    "    \n",
    "    # 이미지 담고 있는 디렉토리 열기\n",
    "    for file in os.listdir(image_dir_path):\n",
    "\n",
    "        if file.lower().endswith('.jpg'):\n",
    "            file_path = os.path.join(image_dir_path, file)\n",
    "            # 원본 이미지\n",
    "            if original is None or os.path.getctime(file_path) > os.path.getctime(original_path):\n",
    "                original = file\n",
    "                original_path = file_path\n",
    "\n",
    "        # 마스크 처리\n",
    "        elif file.lower().endswith('.png'):\n",
    "            parts = re.split(r'[_\\.]', file)\n",
    "            if parts[1] == '1':\n",
    "                if parts[2] == 'origin':\n",
    "                    mask1_origin = file\n",
    "                else:\n",
    "                    mask1 = file\n",
    "            elif parts[1] == '2':\n",
    "                if parts[2] == 'origin':\n",
    "                    mask2_origin = file\n",
    "                else:\n",
    "                    mask2 = file\n",
    "            elif parts[1] == '3':\n",
    "                if parts[2] == 'origin':\n",
    "                    mask3_origin = file\n",
    "                else:\n",
    "                    mask3 = file\n",
    "\n",
    "    # 이미지 담고 있는 디렉토리 리스트에 추가\n",
    "    image_dir_list.append(image_dir(\n",
    "        image_dir_path=image_dir_path, \n",
    "        original=original, \n",
    "        mask1_origin=mask1_origin, \n",
    "        mask1=mask1, \n",
    "        mask2_origin=mask2_origin, \n",
    "        mask2=mask2, \n",
    "        mask3_origin=mask3_origin, \n",
    "        mask3=mask3\n",
    "        ))"
   ]
  },
  {
   "cell_type": "code",
   "execution_count": 33,
   "metadata": {},
   "outputs": [],
   "source": [
    "# 이미지 디스플레이 함수\n",
    "def show_image(index):\n",
    "    clear_output(wait=True)\n",
    "    \n",
    "    if index+1 <= len(image_dir_list):\n",
    "        img_dir = image_dir_list[index]\n",
    "        \n",
    "        # 현재 인덱스 표시\n",
    "        print(index)\n",
    "\n",
    "        # 디버깅 출력\n",
    "        print(f\"Image Directory Path: {img_dir.image_dir_path}\")\n",
    "        \n",
    "        # figure 사이즈 설정\n",
    "        plt.figure(figsize=(10, 10))\n",
    "\n",
    "        # 이미지 담고 있는 디렉토리 열어서 이미지 불러오기\n",
    "        for i, img_name in enumerate(img_dir):\n",
    "            img = img_dir.open_image(img_name)\n",
    "            \n",
    "            # 원본 이미지 따로 표시\n",
    "            if i == 0:\n",
    "                print(f\"Image Name: {i}: {img_name}\")\n",
    "                plt.subplot(4, 2, i+1)\n",
    "                plt.imshow(img)\n",
    "                plt.axis('off')\n",
    "                # plt.title(img)\n",
    "            else:\n",
    "                print(f\"Image Name: {i}: {img_name}\")\n",
    "                plt.subplot(4, 2, i+2)\n",
    "                plt.imshow(img)\n",
    "                plt.axis('off')\n",
    "                # plt.title(img)\n",
    "                \n",
    "        plt.show()\n",
    "\n",
    "    else:\n",
    "        print(\"모든 이미지를 이동했습니다.\")\n",
    "\n",
    "    display(mask1_button, mask2_button, mask3_button, recheck_image_button, prev_button, next_button, remove_mask_button, remove_image_button)"
   ]
  },
  {
   "cell_type": "code",
   "execution_count": 34,
   "metadata": {},
   "outputs": [],
   "source": [
    "# 이전 이미지 디렉토리로 이동하는 함수\n",
    "def prev_image(b):\n",
    "    global index\n",
    "    # index = (index - 1) % len(image_dir_list)\n",
    "    index = index - 1\n",
    "    show_image(index)\n",
    "\n",
    "# 다음 이미지 디렉토리로 이동하는 함수\n",
    "def next_image(b):\n",
    "    global index\n",
    "    # index = (index + 1) % len(image_dir_list)\n",
    "    index = index + 1\n",
    "    show_image(index)"
   ]
  },
  {
   "cell_type": "code",
   "execution_count": 35,
   "metadata": {},
   "outputs": [],
   "source": [
    "# 1번 마스크 복사하는 함수\n",
    "def copy_mask1_next(b):\n",
    "    global index\n",
    "    if image_dir_list:\n",
    "        img_dir = image_dir_list[index]\n",
    "\n",
    "        # 1번 마스크 복사\n",
    "        source_path = os.path.join(img_dir.image_dir_path, img_dir.mask1)\n",
    "        target_path = os.path.join(mask_dataset_dir, img_dir.mask1)\n",
    "        shutil.copy(source_path, target_path)\n",
    "\n",
    "        # 옮긴 마스크 경로 리스트에 등록\n",
    "        mask_list.append(target_path)\n",
    "\n",
    "        # index = (index + 1) % len(image_dir_list)\n",
    "        index = index + 1\n",
    "        show_image(index)\n",
    "\n",
    "# 2번 마스크 복사하는 함수\n",
    "def copy_mask2_next(b):\n",
    "    global index\n",
    "    if image_dir_list:\n",
    "        img_dir = image_dir_list[index]\n",
    "\n",
    "        # 2번 마스크 복사\n",
    "        source_path = os.path.join(img_dir.image_dir_path, img_dir.mask2)\n",
    "        target_path = os.path.join(mask_dataset_dir, img_dir.mask2)\n",
    "        shutil.copy(source_path, target_path)\n",
    "\n",
    "        # 옮긴 마스크 경로 리스트에 등록\n",
    "        mask_list.append(target_path)\n",
    "\n",
    "        # index = (index + 1) % len(image_dir_list)\n",
    "        index = index + 1\n",
    "        show_image(index)\n",
    "\n",
    "# 3번 마스크 복사하는 함수\n",
    "def copy_mask3_next(b):\n",
    "    global index\n",
    "    if image_dir_list:\n",
    "        img_dir = image_dir_list[index]\n",
    "\n",
    "        # 3번 마스크 복사\n",
    "        source_path = os.path.join(img_dir.image_dir_path, img_dir.mask3)\n",
    "        target_path = os.path.join(mask_dataset_dir, img_dir.mask3)\n",
    "        shutil.copy(source_path, target_path)\n",
    "\n",
    "        # 옮긴 마스크 경로 리스트에 등록\n",
    "        mask_list.append(target_path)\n",
    "\n",
    "        # index = (index + 1) % len(image_dir_list)\n",
    "        index = index + 1\n",
    "        show_image(index)\n",
    "\n",
    "# 옮긴 마스크 삭제하는 함수\n",
    "def remove_mask_previous(b):\n",
    "    global index\n",
    "    if mask_list:\n",
    "        target_path = mask_list.pop()\n",
    "        os.remove(target_path)\n",
    "        \n",
    "        # index = (index - 1) % len(image_dir_list)\n",
    "        index = index - 1\n",
    "        show_image(index)"
   ]
  },
  {
   "cell_type": "code",
   "execution_count": 36,
   "metadata": {},
   "outputs": [],
   "source": [
    "# 다시 박스 쳐서 추론할 이미지 복사하는 함수\n",
    "def copy_recheck_image_next(b):\n",
    "    global index\n",
    "    if image_dir_list:\n",
    "        img_dir = image_dir_list[index]\n",
    "\n",
    "        # recheck 이미지 복사\n",
    "        source_path = os.path.join(img_dir.image_dir_path, img_dir.original)\n",
    "        target_path = os.path.join(recheck_image_dir, img_dir.original)\n",
    "        shutil.copy(source_path, target_path)\n",
    "\n",
    "        # recheck 이미지 경로 리스트에 등록\n",
    "        recheck_image_list.append(target_path)\n",
    "\n",
    "        # index = (index + 1) % len(image_dir_list)\n",
    "        index = index + 1\n",
    "        show_image(index)\n",
    "    \n",
    "# recheck 이미지 삭제하는 함수\n",
    "def remove_recheck_image_previous(b):\n",
    "    global index\n",
    "    if recheck_image_list:\n",
    "        target_path = recheck_image_list.pop()\n",
    "        os.remove(target_path)\n",
    "\n",
    "        # index = (index - 1) % len(image_dir_list)\n",
    "        index = index - 1\n",
    "        show_image(index)"
   ]
  },
  {
   "cell_type": "code",
   "execution_count": 38,
   "metadata": {},
   "outputs": [
    {
     "name": "stdout",
     "output_type": "stream",
     "text": [
      "모든 이미지를 이동했습니다.\n"
     ]
    },
    {
     "data": {
      "application/vnd.jupyter.widget-view+json": {
       "model_id": "cb8e95e30ac144558bf80ed8385535c3",
       "version_major": 2,
       "version_minor": 0
      },
      "text/plain": [
       "Button(description='Mask1', style=ButtonStyle())"
      ]
     },
     "metadata": {},
     "output_type": "display_data"
    },
    {
     "data": {
      "application/vnd.jupyter.widget-view+json": {
       "model_id": "bcfacedd4d8748abbbe045965da811c0",
       "version_major": 2,
       "version_minor": 0
      },
      "text/plain": [
       "Button(description='Mask2', style=ButtonStyle())"
      ]
     },
     "metadata": {},
     "output_type": "display_data"
    },
    {
     "data": {
      "application/vnd.jupyter.widget-view+json": {
       "model_id": "6973de58e7a64aad894e587c7954d9b3",
       "version_major": 2,
       "version_minor": 0
      },
      "text/plain": [
       "Button(description='Mask3', style=ButtonStyle())"
      ]
     },
     "metadata": {},
     "output_type": "display_data"
    },
    {
     "data": {
      "application/vnd.jupyter.widget-view+json": {
       "model_id": "3845a997123b4b9ba7f0ebc30c1713d1",
       "version_major": 2,
       "version_minor": 0
      },
      "text/plain": [
       "Button(description='Recheck Image', style=ButtonStyle())"
      ]
     },
     "metadata": {},
     "output_type": "display_data"
    },
    {
     "data": {
      "application/vnd.jupyter.widget-view+json": {
       "model_id": "0268dc94325d46fd802cad49c40f620c",
       "version_major": 2,
       "version_minor": 0
      },
      "text/plain": [
       "Button(description='Previous', style=ButtonStyle())"
      ]
     },
     "metadata": {},
     "output_type": "display_data"
    },
    {
     "data": {
      "application/vnd.jupyter.widget-view+json": {
       "model_id": "9739a1698bb648508caba2531fbbad82",
       "version_major": 2,
       "version_minor": 0
      },
      "text/plain": [
       "Button(description='Next', style=ButtonStyle())"
      ]
     },
     "metadata": {},
     "output_type": "display_data"
    },
    {
     "data": {
      "application/vnd.jupyter.widget-view+json": {
       "model_id": "ea32e41413ce4b8b9be651e724ebda79",
       "version_major": 2,
       "version_minor": 0
      },
      "text/plain": [
       "Button(description='Remove Mask', style=ButtonStyle())"
      ]
     },
     "metadata": {},
     "output_type": "display_data"
    },
    {
     "data": {
      "application/vnd.jupyter.widget-view+json": {
       "model_id": "e85cacba266a432497376cefe87f8ad3",
       "version_major": 2,
       "version_minor": 0
      },
      "text/plain": [
       "Button(description='Remove Image', style=ButtonStyle())"
      ]
     },
     "metadata": {},
     "output_type": "display_data"
    }
   ],
   "source": [
    "# 버튼 생성\n",
    "prev_button = widgets.Button(description=\"Previous\")\n",
    "next_button = widgets.Button(description=\"Next\")\n",
    "mask1_button = widgets.Button(description=\"Mask1\")\n",
    "mask2_button = widgets.Button(description=\"Mask2\")\n",
    "mask3_button = widgets.Button(description=\"Mask3\")\n",
    "recheck_image_button = widgets.Button(description=\"Recheck Image\")\n",
    "remove_mask_button = widgets.Button(description=\"Remove Mask\")\n",
    "remove_image_button = widgets.Button(description=\"Remove Image\")\n",
    "\n",
    "# 버튼 클릭 이벤트에 함수 연결\n",
    "prev_button.on_click(prev_image)\n",
    "next_button.on_click(next_image)\n",
    "mask1_button.on_click(copy_mask1_next)\n",
    "mask2_button.on_click(copy_mask2_next)\n",
    "mask3_button.on_click(copy_mask3_next)\n",
    "recheck_image_button.on_click(copy_recheck_image_next)\n",
    "remove_mask_button.on_click(remove_mask_previous)\n",
    "remove_image_button.on_click(remove_recheck_image_previous)\n",
    "\n",
    "\n",
    "# 인덱스 설정\n",
    "index = 0\n",
    "\n",
    "show_image(index)"
   ]
  },
  {
   "cell_type": "code",
   "execution_count": null,
   "metadata": {},
   "outputs": [],
   "source": []
  }
 ],
 "metadata": {
  "kernelspec": {
   "display_name": "SAM",
   "language": "python",
   "name": "python3"
  },
  "language_info": {
   "codemirror_mode": {
    "name": "ipython",
    "version": 3
   },
   "file_extension": ".py",
   "mimetype": "text/x-python",
   "name": "python",
   "nbconvert_exporter": "python",
   "pygments_lexer": "ipython3",
   "version": "3.10.11"
  }
 },
 "nbformat": 4,
 "nbformat_minor": 2
}
